{
 "cells": [
  {
   "metadata": {},
   "cell_type": "markdown",
   "source": "# Array Properties",
   "id": "b9a1b3a2b8e52d02"
  },
  {
   "metadata": {
    "ExecuteTime": {
     "end_time": "2025-08-08T00:13:53.460229Z",
     "start_time": "2025-08-08T00:13:53.451840Z"
    }
   },
   "cell_type": "code",
   "source": [
    "import numpy as np\n",
    "\n",
    "arr = np.array([\n",
    "    [1, 2, 3],\n",
    "    [4, 5, True]\n",
    "])\n",
    "\n",
    "print(\"Shape : \", arr.shape)\n",
    "print(\"Size : \", arr.size)\n",
    "print(\"Dimension : \", arr.ndim)\n",
    "print(\"Data Type : \", arr.dtype)\n",
    "\n",
    "arr2 = np.full((2, 3), True)\n",
    "print(\"Datatype : \", arr2.dtype)"
   ],
   "id": "577c6a1d3ec291f9",
   "outputs": [
    {
     "name": "stdout",
     "output_type": "stream",
     "text": [
      "Shape :  (2, 3)\n",
      "Size :  6\n",
      "Dimension :  2\n",
      "Data Type :  int64\n",
      "Datatype :  bool\n"
     ]
    }
   ],
   "execution_count": 8
  },
  {
   "metadata": {},
   "cell_type": "markdown",
   "source": "## Array reshaping",
   "id": "37704831d587745a"
  },
  {
   "metadata": {
    "ExecuteTime": {
     "end_time": "2025-08-08T00:13:53.650335Z",
     "start_time": "2025-08-08T00:13:53.637233Z"
    }
   },
   "cell_type": "code",
   "source": [
    "arr3 = np.arange(20)\n",
    "print(\"Original Array : \", arr3)\n",
    "\n",
    "reshaped = arr3.reshape(4, 5)\n",
    "print(\"Reshaped Array : \", reshaped)\n",
    "\n",
    "flattened = reshaped.flatten()\n",
    "print(\"Flattened : \", flattened)\n",
    "\n",
    "# Ravel (returns view, instead of copy)\n",
    "raveled = reshaped.ravel()\n",
    "print(\"Raveled : \", raveled)\n",
    "\n",
    "\n",
    "# Transpose\n",
    "transpose = reshaped.T\n",
    "print(\"Transpose : \", transpose)"
   ],
   "id": "1b8ac756c82a0eb9",
   "outputs": [
    {
     "name": "stdout",
     "output_type": "stream",
     "text": [
      "Original Array :  [ 0  1  2  3  4  5  6  7  8  9 10 11 12 13 14 15 16 17 18 19]\n",
      "Reshaped Array :  [[ 0  1  2  3  4]\n",
      " [ 5  6  7  8  9]\n",
      " [10 11 12 13 14]\n",
      " [15 16 17 18 19]]\n",
      "Flattened :  [ 0  1  2  3  4  5  6  7  8  9 10 11 12 13 14 15 16 17 18 19]\n",
      "Raveled :  [ 0  1  2  3  4  5  6  7  8  9 10 11 12 13 14 15 16 17 18 19]\n",
      "Transpose :  [[ 0  5 10 15]\n",
      " [ 1  6 11 16]\n",
      " [ 2  7 12 17]\n",
      " [ 3  8 13 18]\n",
      " [ 4  9 14 19]]\n"
     ]
    }
   ],
   "execution_count": 9
  }
 ],
 "metadata": {
  "kernelspec": {
   "display_name": "Python 3",
   "language": "python",
   "name": "python3"
  },
  "language_info": {
   "codemirror_mode": {
    "name": "ipython",
    "version": 2
   },
   "file_extension": ".py",
   "mimetype": "text/x-python",
   "name": "python",
   "nbconvert_exporter": "python",
   "pygments_lexer": "ipython2",
   "version": "2.7.6"
  }
 },
 "nbformat": 4,
 "nbformat_minor": 5
}
