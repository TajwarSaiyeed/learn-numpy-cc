{
 "cells": [
  {
   "cell_type": "code",
   "id": "initial_id",
   "metadata": {
    "collapsed": true,
    "ExecuteTime": {
     "end_time": "2025-08-15T13:03:01.577623Z",
     "start_time": "2025-08-15T13:03:00.896311Z"
    }
   },
   "source": [
    "#import\n",
    "import numpy as np\n",
    "import matplotlib.pyplot as plt"
   ],
   "outputs": [],
   "execution_count": 3
  },
  {
   "metadata": {
    "ExecuteTime": {
     "end_time": "2025-08-15T13:03:02.873294Z",
     "start_time": "2025-08-15T13:03:02.863541Z"
    }
   },
   "cell_type": "code",
   "source": [
    "array_1 = np.array([1,2,3,4,5])\n",
    "array_2 = np.random.rand(3, 3)\n",
    "array_3 = np.zeros((4, 4))\n",
    "array_4 = np.ones((5, 5))\n",
    "array_5 = np.full((6, 6), 10)\n",
    "array_6 = np.eye(7)\n",
    "array_7 = np.random.randint(1, 10, (8, 8))\n",
    "array_8 = np.random.normal(0, 1, (9, 9))\n",
    "array_9 = np.random.uniform(0, 1, (10, 10))\n",
    "array_10 = np.linspace(0, 10, 11)\n",
    "array_11 = np.logspace(0, 10, 11)\n",
    "array_12 = np.geomspace(1, 1000, 10)\n",
    "array_13 = np.arange(1, 11)"
   ],
   "id": "6e2f4fa108845276",
   "outputs": [],
   "execution_count": 4
  },
  {
   "metadata": {},
   "cell_type": "markdown",
   "source": "## Save",
   "id": "c6d0fe8efd127a5f"
  },
  {
   "metadata": {
    "ExecuteTime": {
     "end_time": "2025-08-15T13:04:31.028753Z",
     "start_time": "2025-08-15T13:04:31.020065Z"
    }
   },
   "cell_type": "code",
   "source": [
    "np.save(\"array_1.npy\", array_1)\n",
    "np.save(\"array_2.npy\", array_2)"
   ],
   "id": "f354469db3efdf54",
   "outputs": [],
   "execution_count": 5
  },
  {
   "metadata": {},
   "cell_type": "markdown",
   "source": "## Load",
   "id": "627c5d6f4a7cb45e"
  },
  {
   "metadata": {
    "ExecuteTime": {
     "end_time": "2025-08-15T13:07:37.504171Z",
     "start_time": "2025-08-15T13:07:37.490483Z"
    }
   },
   "cell_type": "code",
   "source": [
    "loaded_array_1 = np.load('array_1.npy')\n",
    "print(loaded_array_1)"
   ],
   "id": "8b6550f603f465ff",
   "outputs": [
    {
     "name": "stdout",
     "output_type": "stream",
     "text": [
      "[1 2 3 4 5]\n"
     ]
    }
   ],
   "execution_count": 6
  }
 ],
 "metadata": {
  "kernelspec": {
   "display_name": "Python 3",
   "language": "python",
   "name": "python3"
  },
  "language_info": {
   "codemirror_mode": {
    "name": "ipython",
    "version": 2
   },
   "file_extension": ".py",
   "mimetype": "text/x-python",
   "name": "python",
   "nbconvert_exporter": "python",
   "pygments_lexer": "ipython2",
   "version": "2.7.6"
  }
 },
 "nbformat": 4,
 "nbformat_minor": 5
}
