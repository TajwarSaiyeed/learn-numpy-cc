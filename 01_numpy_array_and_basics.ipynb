{
 "cells": [
  {
   "metadata": {},
   "cell_type": "markdown",
   "source": "# Numpy array and basics",
   "id": "b4b2404d4d7de078"
  },
  {
   "metadata": {
    "collapsed": true,
    "ExecuteTime": {
     "end_time": "2025-08-07T05:25:27.631461Z",
     "start_time": "2025-08-07T05:25:27.625903Z"
    }
   },
   "cell_type": "code",
   "source": "import numpy as np",
   "id": "initial_id",
   "outputs": [],
   "execution_count": 2
  },
  {
   "metadata": {},
   "cell_type": "markdown",
   "source": "## Creating array",
   "id": "b73e95d38380f134"
  },
  {
   "metadata": {
    "ExecuteTime": {
     "end_time": "2025-08-07T05:28:23.373315Z",
     "start_time": "2025-08-07T05:28:23.363171Z"
    }
   },
   "cell_type": "code",
   "source": [
    "array_1d = np.array([1,2,3])\n",
    "print(\"1D Array :\", array_1d)\n",
    "\n",
    "array_2d = np.array([[1,2,3], [4,5,6]])\n",
    "print(\"2D Array : \", array_2d)"
   ],
   "id": "68f460a40c1be22e",
   "outputs": [
    {
     "name": "stdout",
     "output_type": "stream",
     "text": [
      "1D Array : [1 2 3]\n",
      "2D Array :  [[1 2 3]\n",
      " [4 5 6]]\n"
     ]
    }
   ],
   "execution_count": 4
  }
 ],
 "metadata": {
  "kernelspec": {
   "display_name": "Python 3",
   "language": "python",
   "name": "python3"
  },
  "language_info": {
   "codemirror_mode": {
    "name": "ipython",
    "version": 2
   },
   "file_extension": ".py",
   "mimetype": "text/x-python",
   "name": "python",
   "nbconvert_exporter": "python",
   "pygments_lexer": "ipython2",
   "version": "2.7.6"
  }
 },
 "nbformat": 4,
 "nbformat_minor": 5
}
