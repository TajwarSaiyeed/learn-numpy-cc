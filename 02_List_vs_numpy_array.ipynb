{
 "cells": [
  {
   "metadata": {},
   "cell_type": "code",
   "outputs": [],
   "execution_count": null,
   "source": "import numpy as np",
   "id": "52b7cd511bc19e9"
  },
  {
   "metadata": {},
   "cell_type": "markdown",
   "source": "# List Vs Numpy Array",
   "id": "e55883b1b4bdd940"
  },
  {
   "metadata": {},
   "cell_type": "markdown",
   "source": "## List Multiplication",
   "id": "77f8f1ea5179eeee"
  },
  {
   "metadata": {
    "ExecuteTime": {
     "end_time": "2025-08-07T05:30:26.759395Z",
     "start_time": "2025-08-07T05:30:26.746820Z"
    }
   },
   "cell_type": "code",
   "source": [
    "\n",
    "py_list = [1,2,3]\n",
    "print(\"Python List Multiplication : \" , py_list * 3)"
   ],
   "id": "719732c22bfac523",
   "outputs": [
    {
     "name": "stdout",
     "output_type": "stream",
     "text": [
      "Python List Multiplication :  [1, 2, 3, 1, 2, 3, 1, 2, 3]\n"
     ]
    }
   ],
   "execution_count": 1
  },
  {
   "metadata": {},
   "cell_type": "markdown",
   "source": "## Numpy Array Multiplication",
   "id": "930e684716c56b6e"
  },
  {
   "metadata": {
    "ExecuteTime": {
     "end_time": "2025-08-07T05:35:59.971068Z",
     "start_time": "2025-08-07T05:35:59.963127Z"
    }
   },
   "cell_type": "code",
   "source": [
    "np_array = np.array([1,2,3])\n",
    "print(\"Numpy array multiplication\", np_array * 3) # Element wise multiplication"
   ],
   "id": "5c2021e8cf1c615c",
   "outputs": [
    {
     "name": "stdout",
     "output_type": "stream",
     "text": [
      "Numpy array multiplication [3 6 9]\n"
     ]
    }
   ],
   "execution_count": 5
  },
  {
   "metadata": {
    "ExecuteTime": {
     "end_time": "2025-08-07T05:37:26.838171Z",
     "start_time": "2025-08-07T05:37:26.818303Z"
    }
   },
   "cell_type": "code",
   "source": [
    "import time\n",
    "start = time.time()\n",
    "py_list = [i * 2 for i in range(100000)]\n",
    "print(\"[List Operation Time] : \", time.time() - start)"
   ],
   "id": "b8541bc1d12ac048",
   "outputs": [
    {
     "name": "stdout",
     "output_type": "stream",
     "text": [
      "[List Operation Time] :  0.012533426284790039\n"
     ]
    }
   ],
   "execution_count": 10
  },
  {
   "metadata": {
    "ExecuteTime": {
     "end_time": "2025-08-07T05:37:30.288502Z",
     "start_time": "2025-08-07T05:37:30.279139Z"
    }
   },
   "cell_type": "code",
   "source": [
    "start = time.time()\n",
    "np_array = np.arange(100000) * 3\n",
    "print(\"[Numpy Operation Time] : \", time.time() - start)"
   ],
   "id": "c3e6e81854e64a30",
   "outputs": [
    {
     "name": "stdout",
     "output_type": "stream",
     "text": [
      "[Numpy Operation Time] :  0.0007123947143554688\n"
     ]
    }
   ],
   "execution_count": 16
  }
 ],
 "metadata": {
  "kernelspec": {
   "display_name": "Python 3",
   "language": "python",
   "name": "python3"
  },
  "language_info": {
   "codemirror_mode": {
    "name": "ipython",
    "version": 2
   },
   "file_extension": ".py",
   "mimetype": "text/x-python",
   "name": "python",
   "nbconvert_exporter": "python",
   "pygments_lexer": "ipython2",
   "version": "2.7.6"
  }
 },
 "nbformat": 4,
 "nbformat_minor": 5
}
