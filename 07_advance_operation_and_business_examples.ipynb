{
 "cells": [
  {
   "metadata": {},
   "cell_type": "markdown",
   "source": "# Data structure : [restaurant_id, 2021, 2022, 2023, 2024, 2025]",
   "id": "f727caea34eafddd"
  },
  {
   "metadata": {
    "ExecuteTime": {
     "end_time": "2025-08-12T00:25:54.502081Z",
     "start_time": "2025-08-12T00:25:54.496016Z"
    }
   },
   "cell_type": "code",
   "source": [
    "import numpy as np\n",
    "import matplotlib.pyplot as plt\n",
    "from matplotlib.pyplot import axis"
   ],
   "id": "b907659022155999",
   "outputs": [],
   "execution_count": 48
  },
  {
   "metadata": {
    "ExecuteTime": {
     "end_time": "2025-08-12T00:25:54.534565Z",
     "start_time": "2025-08-12T00:25:54.527715Z"
    }
   },
   "cell_type": "code",
   "source": [
    "restaurant_data = np.array([\n",
    "    [101, 85000, 92000, 98000, 105000, 112000], # Restaurant 1\n",
    "    [102, 67000, 71000, 78000, 82000, 89000], # Restaurant 2\n",
    "    [103, 120000, 115000, 125000, 135000, 142000], # Restaurant 3\n",
    "    [104, 48000, 45000, 52000, 56000, 61000], # Restaurant 4\n",
    "    [105, 93000, 78000, 82000, 87000, 98000] # Restaurant 5\n",
    "])"
   ],
   "id": "5450d4cf412fa5f8",
   "outputs": [],
   "execution_count": 49
  },
  {
   "metadata": {
    "ExecuteTime": {
     "end_time": "2025-08-12T00:25:54.618024Z",
     "start_time": "2025-08-12T00:25:54.608814Z"
    }
   },
   "cell_type": "code",
   "source": [
    "print(\"=== Restaurant Sales Analysis ===\")\n",
    "print(\"Shape : \", np.shape(restaurant_data))\n",
    "print(\"Sample data for first 3 restaurant : \\n \", restaurant_data[:3])\n",
    "# print (\"Sample data for first 3 restaurant : \\n\", restaurant_data[:, 1:])"
   ],
   "id": "ff4fbddd3520fe8d",
   "outputs": [
    {
     "name": "stdout",
     "output_type": "stream",
     "text": [
      "=== Restaurant Sales Analysis ===\n",
      "Shape :  (5, 6)\n",
      "Sample data for first 3 restaurant : \n",
      "  [[   101  85000  92000  98000 105000 112000]\n",
      " [   102  67000  71000  78000  82000  89000]\n",
      " [   103 120000 115000 125000 135000 142000]]\n"
     ]
    }
   ],
   "execution_count": 50
  },
  {
   "metadata": {},
   "cell_type": "markdown",
   "source": "## Total sales per year",
   "id": "726707af92a563c0"
  },
  {
   "metadata": {
    "ExecuteTime": {
     "end_time": "2025-08-12T00:25:54.683333Z",
     "start_time": "2025-08-12T00:25:54.674477Z"
    }
   },
   "cell_type": "code",
   "source": [
    "print(np.sum(restaurant_data, axis=0))\n",
    "print(np.sum(restaurant_data, axis=1))"
   ],
   "id": "ff8cf19277610fe9",
   "outputs": [
    {
     "name": "stdout",
     "output_type": "stream",
     "text": [
      "[   515 413000 401000 435000 465000 502000]\n",
      "[492101 387102 637103 262104 438105]\n"
     ]
    }
   ],
   "execution_count": 51
  },
  {
   "metadata": {
    "ExecuteTime": {
     "end_time": "2025-08-12T00:25:54.758209Z",
     "start_time": "2025-08-12T00:25:54.750578Z"
    }
   },
   "cell_type": "code",
   "source": [
    "yearly_total = np.sum(restaurant_data[:, 1:], axis=0)\n",
    "print(\"Yearly Total : \",yearly_total)"
   ],
   "id": "5a9234be4df02b96",
   "outputs": [
    {
     "name": "stdout",
     "output_type": "stream",
     "text": [
      "Yearly Total :  [413000 401000 435000 465000 502000]\n"
     ]
    }
   ],
   "execution_count": 52
  },
  {
   "metadata": {},
   "cell_type": "markdown",
   "source": "## Minimum sales per restaurant",
   "id": "1202f389221d60c1"
  },
  {
   "metadata": {
    "ExecuteTime": {
     "end_time": "2025-08-12T00:25:54.824363Z",
     "start_time": "2025-08-12T00:25:54.816488Z"
    }
   },
   "cell_type": "code",
   "source": [
    "minimum_sales = np.min(restaurant_data[:, 1:], axis=1)\n",
    "print(\"Minimum sales : \", minimum_sales)"
   ],
   "id": "5d75e345cc607fc1",
   "outputs": [
    {
     "name": "stdout",
     "output_type": "stream",
     "text": [
      "Minimum sales :  [ 85000  67000 115000  45000  78000]\n"
     ]
    }
   ],
   "execution_count": 53
  },
  {
   "metadata": {},
   "cell_type": "markdown",
   "source": "## Maximum sales per year",
   "id": "c1dff26c193bf282"
  },
  {
   "metadata": {
    "ExecuteTime": {
     "end_time": "2025-08-12T00:25:54.911775Z",
     "start_time": "2025-08-12T00:25:54.902311Z"
    }
   },
   "cell_type": "code",
   "source": [
    "maximum_sales = np.max(restaurant_data[:, 1:], axis=0) # per year\n",
    "print(\"Maximum sales : \", maximum_sales) # column wise"
   ],
   "id": "9abb25087c91b561",
   "outputs": [
    {
     "name": "stdout",
     "output_type": "stream",
     "text": [
      "Maximum sales :  [120000 115000 125000 135000 142000]\n"
     ]
    }
   ],
   "execution_count": 54
  },
  {
   "metadata": {},
   "cell_type": "markdown",
   "source": "## Average Sales",
   "id": "7aecb8947e1d42c0"
  },
  {
   "metadata": {
    "ExecuteTime": {
     "end_time": "2025-08-12T00:25:54.981470Z",
     "start_time": "2025-08-12T00:25:54.972005Z"
    }
   },
   "cell_type": "code",
   "source": [
    "avg_sales = np.mean(restaurant_data[:, 1:], axis=1) # row wise, per restaurant\n",
    "print(\"Average sales : \", avg_sales)"
   ],
   "id": "8db8493de35539c2",
   "outputs": [
    {
     "name": "stdout",
     "output_type": "stream",
     "text": [
      "Average sales :  [ 98400.  77400. 127400.  52400.  87600.]\n"
     ]
    }
   ],
   "execution_count": 55
  },
  {
   "metadata": {},
   "cell_type": "markdown",
   "source": "## Cumulative sales",
   "id": "d0faade7f4ee04f2"
  },
  {
   "metadata": {
    "ExecuteTime": {
     "end_time": "2025-08-12T00:29:45.134040Z",
     "start_time": "2025-08-12T00:29:45.109387Z"
    }
   },
   "cell_type": "code",
   "source": [
    "cum_sales = np.cumsum(restaurant_data[:, 1:], axis=1)\n",
    "print(\"Cumulative sales : \\n\", cum_sales)"
   ],
   "id": "1c8e20e9a29cffb",
   "outputs": [
    {
     "name": "stdout",
     "output_type": "stream",
     "text": [
      "Cumulative sales : \n",
      " [[ 85000 177000 275000 380000 492000]\n",
      " [ 67000 138000 216000 298000 387000]\n",
      " [120000 235000 360000 495000 637000]\n",
      " [ 48000  93000 145000 201000 262000]\n",
      " [ 93000 171000 253000 340000 438000]]\n"
     ]
    },
    {
     "data": {
      "text/plain": [
       "<Figure size 1000x600 with 0 Axes>"
      ]
     },
     "execution_count": 63,
     "metadata": {},
     "output_type": "execute_result"
    },
    {
     "data": {
      "text/plain": [
       "<Figure size 1000x600 with 0 Axes>"
      ]
     },
     "metadata": {},
     "output_type": "display_data"
    }
   ],
   "execution_count": 63
  },
  {
   "metadata": {},
   "cell_type": "markdown",
   "source": "## Plotting",
   "id": "b70d82b15c8c3b54"
  },
  {
   "metadata": {
    "ExecuteTime": {
     "end_time": "2025-08-12T00:34:18.260783Z",
     "start_time": "2025-08-12T00:34:17.974375Z"
    }
   },
   "cell_type": "code",
   "source": [
    "plt.figure(figsize=(10, 8))\n",
    "plt.plot(np.mean(cum_sales, axis=0))\n",
    "plt.title(\"Average cumulative sales per restaurant\")\n",
    "plt.xlabel(\"Years\")\n",
    "plt.ylabel(\"Sales\")\n",
    "plt.grid(True)\n",
    "plt.show()"
   ],
   "id": "2d1d6d6d83b29057",
   "outputs": [
    {
     "data": {
      "text/plain": [
       "<Figure size 1000x800 with 1 Axes>"
      ],
      "image/png": "[encoded data removed]"
     },
     "metadata": {},
     "output_type": "display_data"
    }
   ],
   "execution_count": 72
  }
 ],
 "metadata": {
  "kernelspec": {
   "display_name": "Python 3",
   "language": "python",
   "name": "python3"
  },
  "language_info": {
   "codemirror_mode": {
    "name": "ipython",
    "version": 2
   },
   "file_extension": ".py",
   "mimetype": "text/x-python",
   "name": "python",
   "nbconvert_exporter": "python",
   "pygments_lexer": "ipython2",
   "version": "2.7.6"
  }
 },
 "nbformat": 4,
 "nbformat_minor": 5
}
