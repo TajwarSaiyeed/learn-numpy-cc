{
 "cells": [
  {
   "metadata": {},
   "cell_type": "markdown",
   "source": "# Numpy array operations",
   "id": "dd3f67eadde021aa"
  },
  {
   "metadata": {
    "ExecuteTime": {
     "end_time": "2025-08-11T00:24:30.487162Z",
     "start_time": "2025-08-11T00:24:30.475873Z"
    }
   },
   "cell_type": "code",
   "source": [
    "import numpy as np\n",
    "\n",
    "arr_1 = np.arange(20)\n",
    "print(\"Basic Slicing : \", arr_1[2:15])\n",
    "print(\"With Step : \", arr_1[2:15:2])\n",
    "print(\"Negative indexing : \", arr_1[-3])"
   ],
   "id": "beefab3ac44a141e",
   "outputs": [
    {
     "name": "stdout",
     "output_type": "stream",
     "text": [
      "Basic Slicing :  [ 2  3  4  5  6  7  8  9 10 11 12 13 14]\n",
      "With Step :  [ 2  4  6  8 10 12 14]\n",
      "Negative indexing :  17\n"
     ]
    }
   ],
   "execution_count": 70
  },
  {
   "metadata": {
    "ExecuteTime": {
     "end_time": "2025-08-11T00:24:30.536754Z",
     "start_time": "2025-08-11T00:24:30.528922Z"
    }
   },
   "cell_type": "code",
   "source": [
    "arr_2_2d = np.array([\n",
    "    [1,3,5,4],\n",
    "    [3,54,2,3],\n",
    "    [4,5,6,8]\n",
    "])\n",
    "\n",
    "print(\"2D Array : \\n\", arr_2_2d)\n",
    "\n",
    "print(\"Specific element : \", arr_2_2d[1, 3])"
   ],
   "id": "fb82dfcd516108f",
   "outputs": [
    {
     "name": "stdout",
     "output_type": "stream",
     "text": [
      "2D Array : \n",
      " [[ 1  3  5  4]\n",
      " [ 3 54  2  3]\n",
      " [ 4  5  6  8]]\n",
      "Specific element :  3\n"
     ]
    }
   ],
   "execution_count": 71
  },
  {
   "metadata": {
    "ExecuteTime": {
     "end_time": "2025-08-11T00:24:30.639754Z",
     "start_time": "2025-08-11T00:24:30.630287Z"
    }
   },
   "cell_type": "code",
   "source": [
    "print(\"Entire row : \", arr_2_2d[1])\n",
    "print(\"Entire column : \", arr_2_2d[:, 3])"
   ],
   "id": "28de27427620007e",
   "outputs": [
    {
     "name": "stdout",
     "output_type": "stream",
     "text": [
      "Entire row :  [ 3 54  2  3]\n",
      "Entire column :  [4 3 8]\n"
     ]
    }
   ],
   "execution_count": 72
  },
  {
   "metadata": {},
   "cell_type": "markdown",
   "source": "### Sorting",
   "id": "d50520ec2829b28d"
  },
  {
   "metadata": {
    "ExecuteTime": {
     "end_time": "2025-08-11T00:24:30.715612Z",
     "start_time": "2025-08-11T00:24:30.708211Z"
    }
   },
   "cell_type": "code",
   "source": [
    "unsorted_1 = np.array([4,8,1,798,2,5,71,5,9,87,1,2,8,7])\n",
    "print(\"Unsorted : \", unsorted_1)\n",
    "print(\"Sorted : \", np.sort(unsorted_1))"
   ],
   "id": "9cab1be446324cac",
   "outputs": [
    {
     "name": "stdout",
     "output_type": "stream",
     "text": [
      "Unsorted :  [  4   8   1 798   2   5  71   5   9  87   1   2   8   7]\n",
      "Sorted :  [  1   1   2   2   4   5   5   7   8   8   9  71  87 798]\n"
     ]
    }
   ],
   "execution_count": 73
  },
  {
   "metadata": {
    "ExecuteTime": {
     "end_time": "2025-08-11T00:24:30.818749Z",
     "start_time": "2025-08-11T00:24:30.808649Z"
    }
   },
   "cell_type": "code",
   "source": [
    "unsorted_2_2d = np.array([\n",
    "    [11,2],\n",
    "    [31,4],\n",
    "    [5,61],\n",
    "])\n",
    "print(\"Unsorted : \\n\", unsorted_2_2d)\n",
    "print(\"\\nSorted 2d array by Column: \\n\", np.sort(unsorted_2_2d, axis=0))\n",
    "print(\"\\nSorted 2d array by Row: \\n\", np.sort(unsorted_2_2d, axis=1))"
   ],
   "id": "f924ed4d1cd68a90",
   "outputs": [
    {
     "name": "stdout",
     "output_type": "stream",
     "text": [
      "Unsorted : \n",
      " [[11  2]\n",
      " [31  4]\n",
      " [ 5 61]]\n",
      "\n",
      "Sorted 2d array by Column: \n",
      " [[ 5  2]\n",
      " [11  4]\n",
      " [31 61]]\n",
      "\n",
      "Sorted 2d array by Row: \n",
      " [[ 2 11]\n",
      " [ 4 31]\n",
      " [ 5 61]]\n"
     ]
    }
   ],
   "execution_count": 74
  },
  {
   "metadata": {},
   "cell_type": "markdown",
   "source": "### Filter",
   "id": "679c72edc4c13531"
  },
  {
   "metadata": {
    "ExecuteTime": {
     "end_time": "2025-08-11T00:24:30.884332Z",
     "start_time": "2025-08-11T00:24:30.875724Z"
    }
   },
   "cell_type": "code",
   "source": [
    "numbers = np.arange(13)\n",
    "even_numbers = numbers[numbers % 2 == 0]\n",
    "print(\"Even Numbers : \", even_numbers)"
   ],
   "id": "6b13e33da7386793",
   "outputs": [
    {
     "name": "stdout",
     "output_type": "stream",
     "text": [
      "Even Numbers :  [ 0  2  4  6  8 10 12]\n"
     ]
    }
   ],
   "execution_count": 75
  },
  {
   "metadata": {},
   "cell_type": "markdown",
   "source": "### Filter with a mask",
   "id": "b01e58216023fee6"
  },
  {
   "metadata": {
    "ExecuteTime": {
     "end_time": "2025-08-11T00:24:30.978769Z",
     "start_time": "2025-08-11T00:24:30.971070Z"
    }
   },
   "cell_type": "code",
   "source": [
    "mask = numbers > 5\n",
    "print(\"Mask : \", mask)\n",
    "print(\"Number greater than 5 : \", numbers[mask])"
   ],
   "id": "8362c8aecfced929",
   "outputs": [
    {
     "name": "stdout",
     "output_type": "stream",
     "text": [
      "Mask :  [False False False False False False  True  True  True  True  True  True\n",
      "  True]\n",
      "Number greater than 5 :  [ 6  7  8  9 10 11 12]\n"
     ]
    }
   ],
   "execution_count": 76
  },
  {
   "metadata": {},
   "cell_type": "markdown",
   "source": "### Indexing vs np.where()",
   "id": "6528e211525550e1"
  },
  {
   "metadata": {
    "ExecuteTime": {
     "end_time": "2025-08-11T00:24:31.058420Z",
     "start_time": "2025-08-11T00:24:31.048664Z"
    }
   },
   "cell_type": "code",
   "source": [
    "indices = [0, 2, 4]\n",
    "print(\"Indices : \", numbers[indices])\n",
    "\n",
    "where_result = np.where(numbers > 5)\n",
    "print(\"Where result : \", numbers[where_result])\n",
    "\n",
    "where_result_2 = np.where((2 < numbers) & (numbers < 6))\n",
    "print(\"Where result 2 : \", numbers[where_result_2])\n",
    "\n",
    "condition_array = np.where(numbers > 5, numbers * 4, numbers * 5)\n",
    "\"\"\"\n",
    "    explanation\n",
    "        if numbers > 5:\n",
    "            numbers * 4\n",
    "        else :\n",
    "            numbers * 5\n",
    "\"\"\"\n",
    "print(\"Condition array : \", condition_array)"
   ],
   "id": "953543f9b6d069b3",
   "outputs": [
    {
     "name": "stdout",
     "output_type": "stream",
     "text": [
      "Indices :  [0 2 4]\n",
      "Where result :  [ 6  7  8  9 10 11 12]\n",
      "Where result 2 :  [3 4 5]\n",
      "Condition array :  [ 0  5 10 15 20 25 24 28 32 36 40 44 48]\n"
     ]
    }
   ],
   "execution_count": 77
  },
  {
   "metadata": {},
   "cell_type": "markdown",
   "source": "### Adding and Removing data",
   "id": "8320197c7915699b"
  },
  {
   "metadata": {
    "ExecuteTime": {
     "end_time": "2025-08-11T00:24:31.153765Z",
     "start_time": "2025-08-11T00:24:31.143672Z"
    }
   },
   "cell_type": "code",
   "source": [
    "arr_1, arr_2 = np.array([1, 2, 3]), np.array([4, 5, 6])\n",
    "combined = arr_1 +  arr_2\n",
    "print(\"Combined : \", combined)\n",
    "concatenate_array = np.concatenate((arr_1, arr_2))\n",
    "print(\"Concatenated : \", concatenate_array)"
   ],
   "id": "93a4fb844635b0f",
   "outputs": [
    {
     "name": "stdout",
     "output_type": "stream",
     "text": [
      "Combined :  [5 7 9]\n",
      "Concatenated :  [1 2 3 4 5 6]\n"
     ]
    }
   ],
   "execution_count": 78
  },
  {
   "metadata": {},
   "cell_type": "markdown",
   "source": "### Array Compatibility",
   "id": "cd7f299c4c443ada"
  },
  {
   "metadata": {
    "ExecuteTime": {
     "end_time": "2025-08-11T00:24:31.220335Z",
     "start_time": "2025-08-11T00:24:31.209853Z"
    }
   },
   "cell_type": "code",
   "source": [
    "arr_1 = np.arange(4)\n",
    "arr_2 = np.array([4, 5, 6])\n",
    "arr_3 = np.array([7,8,9])\n",
    "print(\"Compatibility Shapes : \", arr_1.shape == arr_2.shape == arr_3.shape)"
   ],
   "id": "3062dec583286401",
   "outputs": [
    {
     "name": "stdout",
     "output_type": "stream",
     "text": [
      "Compatibility Shapes :  False\n"
     ]
    }
   ],
   "execution_count": 79
  },
  {
   "metadata": {
    "ExecuteTime": {
     "end_time": "2025-08-11T00:24:31.333560Z",
     "start_time": "2025-08-11T00:24:31.324238Z"
    }
   },
   "cell_type": "code",
   "source": [
    "original = np.array([\n",
    "    [1,2],\n",
    "    [4, 5],\n",
    "])\n",
    "\n",
    "new_row = np.array([[7, 8]])\n",
    "new_col = np.array([\n",
    "    [3],\n",
    "    [6],\n",
    "])\n",
    "with_new_row = np.vstack((original, new_row)) # add new row, vstack always add row\n",
    "with_new_col = np.hstack((original, new_col)) # add new column\n",
    "print(\"Original : \", original)\n",
    "print(\"With new row : \", with_new_row)\n",
    "print(\"With new col : \", with_new_col)\n"
   ],
   "id": "f4543c535980f45b",
   "outputs": [
    {
     "name": "stdout",
     "output_type": "stream",
     "text": [
      "Original :  [[1 2]\n",
      " [4 5]]\n",
      "With new row :  [[1 2]\n",
      " [4 5]\n",
      " [7 8]]\n",
      "With new col :  [[1 2 3]\n",
      " [4 5 6]]\n"
     ]
    }
   ],
   "execution_count": 80
  },
  {
   "metadata": {},
   "cell_type": "markdown",
   "source": "### Delete Operation",
   "id": "6472540655f5e235"
  },
  {
   "metadata": {
    "ExecuteTime": {
     "end_time": "2025-08-11T00:24:31.444572Z",
     "start_time": "2025-08-11T00:24:31.380799Z"
    }
   },
   "cell_type": "code",
   "source": [
    "arr = np.array([\n",
    "    [1, 2, 3], [4, 5, 6], [7, 8, 9],\n",
    "])\n",
    "\n",
    "deleted = np.delete(arr, 6) # this will remove number 7\n",
    "\n",
    "print(\"Array : \", arr)\n",
    "print(\"Deleted : \", deleted)"
   ],
   "id": "beacb3881010a2f9",
   "outputs": [
    {
     "name": "stdout",
     "output_type": "stream",
     "text": [
      "Array :  [[1 2 3]\n",
      " [4 5 6]\n",
      " [7 8 9]]\n",
      "Deleted :  [1 2 3 4 5 6 8 9]\n"
     ]
    }
   ],
   "execution_count": 81
  }
 ],
 "metadata": {
  "kernelspec": {
   "display_name": "Python 3",
   "language": "python",
   "name": "python3"
  },
  "language_info": {
   "codemirror_mode": {
    "name": "ipython",
    "version": 2
   },
   "file_extension": ".py",
   "mimetype": "text/x-python",
   "name": "python",
   "nbconvert_exporter": "python",
   "pygments_lexer": "ipython2",
   "version": "2.7.6"
  }
 },
 "nbformat": 4,
 "nbformat_minor": 5
}
