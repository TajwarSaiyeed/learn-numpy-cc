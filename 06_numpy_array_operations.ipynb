{
 "cells": [
  {
   "metadata": {},
   "cell_type": "markdown",
   "source": "# Numpy array operations",
   "id": "dd3f67eadde021aa"
  },
  {
   "metadata": {
    "ExecuteTime": {
     "end_time": "2025-08-10T15:12:52.340283Z",
     "start_time": "2025-08-10T15:12:52.071358Z"
    }
   },
   "cell_type": "code",
   "source": [
    "import numpy as np\n",
    "\n",
    "arr_1 = np.arange(20)\n",
    "print(\"Basic Slicing : \", arr_1[2:15])\n",
    "print(\"With Step : \", arr_1[2:15:2])\n",
    "print(\"Negative indexing : \", arr_1[-3])"
   ],
   "id": "beefab3ac44a141e",
   "outputs": [
    {
     "name": "stdout",
     "output_type": "stream",
     "text": [
      "Basic Slicing :  [ 2  3  4  5  6  7  8  9 10 11 12 13 14]\n",
      "With Step :  [ 2  4  6  8 10 12 14]\n",
      "Negative indexing :  17\n"
     ]
    }
   ],
   "execution_count": 1
  },
  {
   "metadata": {
    "ExecuteTime": {
     "end_time": "2025-08-10T15:12:52.819258Z",
     "start_time": "2025-08-10T15:12:52.810407Z"
    }
   },
   "cell_type": "code",
   "source": [
    "arr_2_2d = np.array([\n",
    "    [1,3,5,4],\n",
    "    [3,54,2,3],\n",
    "    [4,5,6,8]\n",
    "])\n",
    "\n",
    "print(\"2D Array : \\n\", arr_2_2d)\n",
    "\n",
    "print(\"Specefic element : \", arr_2_2d[1, 3])"
   ],
   "id": "fb82dfcd516108f",
   "outputs": [
    {
     "name": "stdout",
     "output_type": "stream",
     "text": [
      "2D Array : \n",
      " [[ 1  3  5  4]\n",
      " [ 3 54  2  3]\n",
      " [ 4  5  6  8]]\n",
      "Specefic element :  3\n"
     ]
    }
   ],
   "execution_count": 2
  },
  {
   "metadata": {
    "ExecuteTime": {
     "end_time": "2025-08-10T15:12:53.514277Z",
     "start_time": "2025-08-10T15:12:53.506083Z"
    }
   },
   "cell_type": "code",
   "source": [
    "print(\"Entire row : \", arr_2_2d[1])\n",
    "print(\"Entire column : \", arr_2_2d[:, 3])"
   ],
   "id": "28de27427620007e",
   "outputs": [
    {
     "name": "stdout",
     "output_type": "stream",
     "text": [
      "Entire row :  [ 3 54  2  3]\n",
      "Entire column :  [4 3 8]\n"
     ]
    }
   ],
   "execution_count": 3
  },
  {
   "metadata": {},
   "cell_type": "markdown",
   "source": "### Sorting",
   "id": "d50520ec2829b28d"
  },
  {
   "metadata": {
    "ExecuteTime": {
     "end_time": "2025-08-10T15:12:54.064638Z",
     "start_time": "2025-08-10T15:12:54.051168Z"
    }
   },
   "cell_type": "code",
   "source": [
    "unsorted_1 = np.array([4,8,1,798,2,5,71,5,9,87,1,2,8,7])\n",
    "print(\"Unsorted : \", unsorted_1)\n",
    "print(\"Sorted : \", np.sort(unsorted_1))"
   ],
   "id": "9cab1be446324cac",
   "outputs": [
    {
     "name": "stdout",
     "output_type": "stream",
     "text": [
      "Unsorted :  [  4   8   1 798   2   5  71   5   9  87   1   2   8   7]\n",
      "Sorted :  [  1   1   2   2   4   5   5   7   8   8   9  71  87 798]\n"
     ]
    }
   ],
   "execution_count": 4
  },
  {
   "metadata": {
    "ExecuteTime": {
     "end_time": "2025-08-10T15:12:54.575117Z",
     "start_time": "2025-08-10T15:12:54.563857Z"
    }
   },
   "cell_type": "code",
   "source": [
    "unsorted_2_2d = np.array([\n",
    "    [11,2],\n",
    "    [31,4],\n",
    "    [5,61],\n",
    "])\n",
    "print(\"Unsorted : \\n\", unsorted_2_2d)\n",
    "print(\"\\nSorted 2d array by Column: \\n\", np.sort(unsorted_2_2d, axis=0))\n",
    "print(\"\\nSorted 2d array by Row: \\n\", np.sort(unsorted_2_2d, axis=1))"
   ],
   "id": "f924ed4d1cd68a90",
   "outputs": [
    {
     "name": "stdout",
     "output_type": "stream",
     "text": [
      "Unsorted : \n",
      " [[11  2]\n",
      " [31  4]\n",
      " [ 5 61]]\n",
      "\n",
      "Sorted 2d array by Column: \n",
      " [[ 5  2]\n",
      " [11  4]\n",
      " [31 61]]\n",
      "\n",
      "Sorted 2d array by Row: \n",
      " [[ 2 11]\n",
      " [ 4 31]\n",
      " [ 5 61]]\n"
     ]
    }
   ],
   "execution_count": 5
  },
  {
   "metadata": {},
   "cell_type": "markdown",
   "source": "### Filter",
   "id": "679c72edc4c13531"
  },
  {
   "metadata": {
    "ExecuteTime": {
     "end_time": "2025-08-10T15:12:55.040598Z",
     "start_time": "2025-08-10T15:12:55.027844Z"
    }
   },
   "cell_type": "code",
   "source": [
    "numbers = np.arange(13)\n",
    "even_numbers = numbers[numbers % 2 == 0]\n",
    "print(\"Even Numbers : \", even_numbers)"
   ],
   "id": "6b13e33da7386793",
   "outputs": [
    {
     "name": "stdout",
     "output_type": "stream",
     "text": [
      "Even Numbers :  [ 0  2  4  6  8 10 12]\n"
     ]
    }
   ],
   "execution_count": 6
  },
  {
   "metadata": {},
   "cell_type": "markdown",
   "source": "### Filter with mask",
   "id": "b01e58216023fee6"
  },
  {
   "metadata": {
    "ExecuteTime": {
     "end_time": "2025-08-10T15:12:55.613283Z",
     "start_time": "2025-08-10T15:12:55.602547Z"
    }
   },
   "cell_type": "code",
   "source": [
    "mask = numbers > 5\n",
    "print(\"Mask : \", mask)\n",
    "print(\"Number greater than 5 : \", numbers[mask])"
   ],
   "id": "8362c8aecfced929",
   "outputs": [
    {
     "name": "stdout",
     "output_type": "stream",
     "text": [
      "Mask :  [False False False False False False  True  True  True  True  True  True\n",
      "  True]\n",
      "Number greater than 5 :  [ 6  7  8  9 10 11 12]\n"
     ]
    }
   ],
   "execution_count": 7
  },
  {
   "metadata": {},
   "cell_type": "markdown",
   "source": "### Indexing vs np.where()",
   "id": "6528e211525550e1"
  },
  {
   "metadata": {
    "ExecuteTime": {
     "end_time": "2025-08-10T15:13:39.835361Z",
     "start_time": "2025-08-10T15:13:39.824899Z"
    }
   },
   "cell_type": "code",
   "source": [
    "indices = [0, 2, 4]\n",
    "print(\"Indices : \", numbers[indices])\n",
    "\n",
    "where_result = np.where(numbers > 5)\n",
    "print(\"Where result : \", numbers[where_result])\n",
    "\n",
    "where_result_2 = np.where((2 < numbers) & (numbers < 6))\n",
    "print(\"Where result 2 : \", numbers[where_result_2])\n",
    "\n",
    "condition_array = np.where(numbers > 5, numbers * 4, numbers * 5)\n",
    "\"\"\"\n",
    "    explanation\n",
    "        if numbers > 5:\n",
    "            numbers * 4\n",
    "        else :\n",
    "            numbers * 5\n",
    "\"\"\"\n",
    "print(\"Condition array : \", condition_array)"
   ],
   "id": "953543f9b6d069b3",
   "outputs": [
    {
     "name": "stdout",
     "output_type": "stream",
     "text": [
      "Indices :  [0 2 4]\n",
      "Where result :  [ 6  7  8  9 10 11 12]\n",
      "Where result 2 :  [3 4 5]\n",
      "Condition array :  [ 0  5 10 15 20 25 24 28 32 36 40 44 48]\n"
     ]
    }
   ],
   "execution_count": 10
  }
 ],
 "metadata": {
  "kernelspec": {
   "display_name": "Python 3",
   "language": "python",
   "name": "python3"
  },
  "language_info": {
   "codemirror_mode": {
    "name": "ipython",
    "version": 2
   },
   "file_extension": ".py",
   "mimetype": "text/x-python",
   "name": "python",
   "nbconvert_exporter": "python",
   "pygments_lexer": "ipython2",
   "version": "2.7.6"
  }
 },
 "nbformat": 4,
 "nbformat_minor": 5
}
