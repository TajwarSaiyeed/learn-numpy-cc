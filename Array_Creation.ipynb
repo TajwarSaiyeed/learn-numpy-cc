{
  "nbformat": 4,
  "nbformat_minor": 0,
  "metadata": {
    "colab": {
      "provenance": [],
      "authorship_tag": "ABX9TyP9Ce2lDnIsbtIPywtoZx9M",
      "include_colab_link": true
    },
    "kernelspec": {
      "name": "python3",
      "display_name": "Python 3"
    },
    "language_info": {
      "name": "python"
    }
  },
  "cells": [
    {
      "cell_type": "markdown",
      "metadata": {
        "id": "view-in-github",
        "colab_type": "text"
      },
      "source": [
        "<a href=\"https://colab.research.google.com/github/TajwarSaiyeed/learn-numpy-cc/blob/main/Array_Creation.ipynb\" target=\"_parent\"><img src=\"https://colab.research.google.com/assets/colab-badge.svg\" alt=\"Open In Colab\"/></a>"
      ]
    },
    {
      "cell_type": "code",
      "execution_count": 22,
      "metadata": {
        "id": "NoszC3yDwaNC"
      },
      "outputs": [],
      "source": [
        "import numpy as np"
      ]
    },
    {
      "cell_type": "markdown",
      "source": [
        "**1) Converting Python sequences to NumPy arrays**"
      ],
      "metadata": {
        "id": "S2PWvD4TwsmV"
      }
    },
    {
      "cell_type": "code",
      "source": [
        "array1d = np.array([1, 2, 3, 4])\n",
        "array2d = np.array([[\n",
        "    1, 2, 3\n",
        "], [\n",
        "    4, 5, 6\n",
        "]])\n",
        "array3d = np.array([\n",
        "    [\n",
        "        [1, 2, 3],\n",
        "        [4, 5, 6]\n",
        "    ],\n",
        "    [\n",
        "        [7, 8, 9],\n",
        "        [10, 11, 12]\n",
        "    ]\n",
        "])\n",
        "\n",
        "print(array1d)\n",
        "print(array2d)\n",
        "print(array3d)"
      ],
      "metadata": {
        "colab": {
          "base_uri": "https://localhost:8080/"
        },
        "id": "H-HkVphlwnMQ",
        "outputId": "979b0dd0-d817-46f0-ea2d-534756e22c91"
      },
      "execution_count": 23,
      "outputs": [
        {
          "output_type": "stream",
          "name": "stdout",
          "text": [
            "[1 2 3 4]\n",
            "[[1 2 3]\n",
            " [4 5 6]]\n",
            "[[[ 1  2  3]\n",
            "  [ 4  5  6]]\n",
            "\n",
            " [[ 7  8  9]\n",
            "  [10 11 12]]]\n"
          ]
        }
      ]
    },
    {
      "cell_type": "markdown",
      "source": [
        "**Dtype**"
      ],
      "metadata": {
        "id": "xXn6YYAOxh2m"
      }
    },
    {
      "cell_type": "code",
      "source": [
        "np.array([127, 128, 129], dtype=np.int8)\n",
        "# An 8-bit signed integer represents integers from -128 to 127.\n",
        "# ---------------------------------------------------------------------------\n",
        "# OverflowError                             Traceback (most recent call last)\n",
        "# /tmp/ipython-input-2745257341.py in <cell line: 0>()\n",
        "# ----> 1 np.array([127, 128, 129], dtype=np.int8)\n",
        "\n",
        "# OverflowError: Python integer 128 out of bounds for int8\n"
      ],
      "metadata": {
        "colab": {
          "base_uri": "https://localhost:8080/",
          "height": 211
        },
        "id": "RchOnzwXxm4w",
        "outputId": "abf9eae3-63e3-45e1-a5f6-40c313d2c1b9"
      },
      "execution_count": 24,
      "outputs": [
        {
          "output_type": "error",
          "ename": "OverflowError",
          "evalue": "Python integer 128 out of bounds for int8",
          "traceback": [
            "\u001b[0;31m---------------------------------------------------------------------------\u001b[0m",
            "\u001b[0;31mOverflowError\u001b[0m                             Traceback (most recent call last)",
            "\u001b[0;32m/tmp/ipython-input-2048169188.py\u001b[0m in \u001b[0;36m<cell line: 0>\u001b[0;34m()\u001b[0m\n\u001b[0;32m----> 1\u001b[0;31m \u001b[0mnp\u001b[0m\u001b[0;34m.\u001b[0m\u001b[0marray\u001b[0m\u001b[0;34m(\u001b[0m\u001b[0;34m[\u001b[0m\u001b[0;36m127\u001b[0m\u001b[0;34m,\u001b[0m \u001b[0;36m128\u001b[0m\u001b[0;34m,\u001b[0m \u001b[0;36m129\u001b[0m\u001b[0;34m]\u001b[0m\u001b[0;34m,\u001b[0m \u001b[0mdtype\u001b[0m\u001b[0;34m=\u001b[0m\u001b[0mnp\u001b[0m\u001b[0;34m.\u001b[0m\u001b[0mint8\u001b[0m\u001b[0;34m)\u001b[0m\u001b[0;34m\u001b[0m\u001b[0;34m\u001b[0m\u001b[0m\n\u001b[0m\u001b[1;32m      2\u001b[0m \u001b[0;31m# An 8-bit signed integer represents integers from -128 to 127.\u001b[0m\u001b[0;34m\u001b[0m\u001b[0;34m\u001b[0m\u001b[0m\n\u001b[1;32m      3\u001b[0m \u001b[0;31m# ---------------------------------------------------------------------------\u001b[0m\u001b[0;34m\u001b[0m\u001b[0;34m\u001b[0m\u001b[0m\n\u001b[1;32m      4\u001b[0m \u001b[0;31m# OverflowError                             Traceback (most recent call last)\u001b[0m\u001b[0;34m\u001b[0m\u001b[0;34m\u001b[0m\u001b[0m\n\u001b[1;32m      5\u001b[0m \u001b[0;31m# /tmp/ipython-input-2745257341.py in <cell line: 0>()\u001b[0m\u001b[0;34m\u001b[0m\u001b[0;34m\u001b[0m\u001b[0m\n",
            "\u001b[0;31mOverflowError\u001b[0m: Python integer 128 out of bounds for int8"
          ]
        }
      ]
    },
    {
      "cell_type": "markdown",
      "source": [
        " # uint32 and int32 can both be represented in as int64."
      ],
      "metadata": {
        "id": "FV7g4l24yqH4"
      }
    },
    {
      "cell_type": "code",
      "source": [
        "a = np.array([2,3,4], dtype=np.uint32)\n",
        "print(a)\n",
        "b = np.array([5, 6, 7], dtype=np.uint32)\n",
        "print(b)\n",
        "c_unsigned32 = a - b\n",
        "print(\"unsigned c : \", c_unsigned32, c_unsigned32.dtype)\n",
        "c_signed32 = a - b.astype(np.int32)\n",
        "print(\"signed c : \", c_signed32, c_signed32.dtype)"
      ],
      "metadata": {
        "id": "V0WWBVdByvB6"
      },
      "execution_count": null,
      "outputs": []
    },
    {
      "cell_type": "code",
      "source": [
        "# Return a new array of given shape and type, without initializing entries.\n",
        "# Doc : https://numpy.org/doc/stable/reference/generated/numpy.empty.html#numpy.empty\n",
        "\n",
        "a = np.empty(shape=(2, 3), dtype=np.int8, order=\"F\", device='cpu')\n",
        "print(a)"
      ],
      "metadata": {
        "id": "7bc1ThKdz6_j"
      },
      "execution_count": null,
      "outputs": []
    }
  ]
}