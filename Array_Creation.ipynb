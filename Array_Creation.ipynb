{
  "nbformat": 4,
  "nbformat_minor": 0,
  "metadata": {
    "colab": {
      "provenance": [],
      "authorship_tag": "ABX9TyOGzjLjGwXNgXUcPO9XB2P9",
      "include_colab_link": true
    },
    "kernelspec": {
      "name": "python3",
      "display_name": "Python 3"
    },
    "language_info": {
      "name": "python"
    }
  },
  "cells": [
    {
      "cell_type": "markdown",
      "metadata": {
        "id": "view-in-github",
        "colab_type": "text"
      },
      "source": [
        "<a href=\"https://colab.research.google.com/github/TajwarSaiyeed/learn-numpy-cc/blob/main/Array_Creation.ipynb\" target=\"_parent\"><img src=\"https://colab.research.google.com/assets/colab-badge.svg\" alt=\"Open In Colab\"/></a>"
      ]
    },
    {
      "cell_type": "code",
      "execution_count": 1,
      "metadata": {
        "id": "NoszC3yDwaNC"
      },
      "outputs": [],
      "source": [
        "import numpy as np"
      ]
    },
    {
      "cell_type": "markdown",
      "source": [
        "**1) Converting Python sequences to NumPy arrays**"
      ],
      "metadata": {
        "id": "S2PWvD4TwsmV"
      }
    },
    {
      "cell_type": "code",
      "source": [
        "array1d = np.array([1, 2, 3, 4])\n",
        "array2d = np.array([[\n",
        "    1, 2, 3\n",
        "], [\n",
        "    4, 5, 6\n",
        "]])\n",
        "array3d = np.array([\n",
        "    [\n",
        "        [1, 2, 3],\n",
        "        [4, 5, 6]\n",
        "    ],\n",
        "    [\n",
        "        [7, 8, 9],\n",
        "        [10, 11, 12]\n",
        "    ]\n",
        "])\n",
        "\n",
        "print(array1d)\n",
        "print(array2d)\n",
        "print(array3d)"
      ],
      "metadata": {
        "colab": {
          "base_uri": "https://localhost:8080/"
        },
        "id": "H-HkVphlwnMQ",
        "outputId": "9f250123-a13c-4cf4-a6f3-e2b7a8fe19ba"
      },
      "execution_count": 2,
      "outputs": [
        {
          "output_type": "stream",
          "name": "stdout",
          "text": [
            "[1 2 3 4]\n",
            "[[1 2 3]\n",
            " [4 5 6]]\n",
            "[[[ 1  2  3]\n",
            "  [ 4  5  6]]\n",
            "\n",
            " [[ 7  8  9]\n",
            "  [10 11 12]]]\n"
          ]
        }
      ]
    },
    {
      "cell_type": "markdown",
      "source": [
        "**Dtype**"
      ],
      "metadata": {
        "id": "xXn6YYAOxh2m"
      }
    },
    {
      "cell_type": "code",
      "source": [
        "np.array([127, 128, 129], dtype=np.int8)\n",
        "# An 8-bit signed integer represents integers from -128 to 127.\n",
        "# ---------------------------------------------------------------------------\n",
        "# OverflowError                             Traceback (most recent call last)\n",
        "# /tmp/ipython-input-2745257341.py in <cell line: 0>()\n",
        "# ----> 1 np.array([127, 128, 129], dtype=np.int8)\n",
        "\n",
        "# OverflowError: Python integer 128 out of bounds for int8\n"
      ],
      "metadata": {
        "colab": {
          "base_uri": "https://localhost:8080/",
          "height": 211
        },
        "id": "RchOnzwXxm4w",
        "outputId": "b4c47eae-6b6f-4d7d-f7c4-8eb17dae75f0"
      },
      "execution_count": 5,
      "outputs": [
        {
          "output_type": "error",
          "ename": "OverflowError",
          "evalue": "Python integer 128 out of bounds for int8",
          "traceback": [
            "\u001b[0;31m---------------------------------------------------------------------------\u001b[0m",
            "\u001b[0;31mOverflowError\u001b[0m                             Traceback (most recent call last)",
            "\u001b[0;32m/tmp/ipython-input-3334352469.py\u001b[0m in \u001b[0;36m<cell line: 0>\u001b[0;34m()\u001b[0m\n\u001b[0;32m----> 1\u001b[0;31m \u001b[0mnp\u001b[0m\u001b[0;34m.\u001b[0m\u001b[0marray\u001b[0m\u001b[0;34m(\u001b[0m\u001b[0;34m[\u001b[0m\u001b[0;36m127\u001b[0m\u001b[0;34m,\u001b[0m \u001b[0;36m128\u001b[0m\u001b[0;34m,\u001b[0m \u001b[0;36m129\u001b[0m\u001b[0;34m]\u001b[0m\u001b[0;34m,\u001b[0m \u001b[0mdtype\u001b[0m\u001b[0;34m=\u001b[0m\u001b[0mnp\u001b[0m\u001b[0;34m.\u001b[0m\u001b[0mint8\u001b[0m\u001b[0;34m)\u001b[0m\u001b[0;34m\u001b[0m\u001b[0;34m\u001b[0m\u001b[0m\n\u001b[0m\u001b[1;32m      2\u001b[0m \u001b[0;31m# An 8-bit signed integer represents integers from -128 to 127.\u001b[0m\u001b[0;34m\u001b[0m\u001b[0;34m\u001b[0m\u001b[0m\n\u001b[1;32m      3\u001b[0m \u001b[0;31m# ---------------------------------------------------------------------------\u001b[0m\u001b[0;34m\u001b[0m\u001b[0;34m\u001b[0m\u001b[0m\n\u001b[1;32m      4\u001b[0m \u001b[0;31m# OverflowError                             Traceback (most recent call last)\u001b[0m\u001b[0;34m\u001b[0m\u001b[0;34m\u001b[0m\u001b[0m\n\u001b[1;32m      5\u001b[0m \u001b[0;31m# /tmp/ipython-input-2745257341.py in <cell line: 0>()\u001b[0m\u001b[0;34m\u001b[0m\u001b[0;34m\u001b[0m\u001b[0m\n",
            "\u001b[0;31mOverflowError\u001b[0m: Python integer 128 out of bounds for int8"
          ]
        }
      ]
    },
    {
      "cell_type": "markdown",
      "source": [
        " # uint32 and int32 can both be represented in as int64."
      ],
      "metadata": {
        "id": "FV7g4l24yqH4"
      }
    },
    {
      "cell_type": "code",
      "source": [
        "a = np.array([2,3,4], dtype=np.uint32)\n",
        "print(a)\n",
        "b = np.array([5, 6, 7], dtype=np.uint32)\n",
        "print(b)\n",
        "c_unsigned32 = a - b\n",
        "print(\"unsigned c : \", c_unsigned32, c_unsigned32.dtype)\n",
        "c_signed32 = a - b.astype(np.int32)\n",
        "print(\"signed c : \", c_signed32, c_signed32.dtype)"
      ],
      "metadata": {
        "id": "V0WWBVdByvB6",
        "colab": {
          "base_uri": "https://localhost:8080/"
        },
        "outputId": "fae616f6-07c7-4f9b-f73b-3d79075e3fa5"
      },
      "execution_count": 6,
      "outputs": [
        {
          "output_type": "stream",
          "name": "stdout",
          "text": [
            "[2 3 4]\n",
            "[5 6 7]\n",
            "unsigned c :  [4294967293 4294967293 4294967293] uint32\n",
            "signed c :  [-3 -3 -3] int64\n"
          ]
        }
      ]
    },
    {
      "cell_type": "code",
      "source": [
        "# Return a new array of given shape and type, without initializing entries.\n",
        "# Doc : https://numpy.org/doc/stable/reference/generated/numpy.empty.html#numpy.empty\n",
        "\n",
        "a = np.empty(shape=(2, 3), dtype=np.int8, order=\"F\", device='cpu')\n",
        "print(a)"
      ],
      "metadata": {
        "id": "7bc1ThKdz6_j",
        "colab": {
          "base_uri": "https://localhost:8080/"
        },
        "outputId": "f7cf77c8-a72d-4dbf-b566-79c3df69395d"
      },
      "execution_count": 7,
      "outputs": [
        {
          "output_type": "stream",
          "name": "stdout",
          "text": [
            "[[-68   2   0]\n",
            " [  5   0   0]]\n"
          ]
        }
      ]
    },
    {
      "cell_type": "code",
      "source": [
        "# numpy.empty_like\n",
        "# Return a new array with the same shape and type as a given array.\n",
        "# Doc : https://numpy.org/doc/stable/reference/generated/numpy.empty_like.html#numpy.empty_like\n",
        "\n",
        "a = ([1,2,3], [4,5,6])\n",
        "np.empty_like(prototype=a, dtype=np.long, order=\"F\", shape=(2, 3), device='cpu', subok=True)"
      ],
      "metadata": {
        "colab": {
          "base_uri": "https://localhost:8080/"
        },
        "id": "uaz5GD-YBTTe",
        "outputId": "cf4c4f1a-3dc3-4b37-8082-a1289a1cd2b5"
      },
      "execution_count": 8,
      "outputs": [
        {
          "output_type": "execute_result",
          "data": {
            "text/plain": [
              "array([[         131681, 133192569905984, 133193123358080],\n",
              "       [              0, 133192569906032,    152198908976]])"
            ]
          },
          "metadata": {},
          "execution_count": 8
        }
      ]
    },
    {
      "cell_type": "code",
      "source": [
        "x = np.arange(10, dtype=np.int32)\n",
        "x.reshape((2, 5))\n",
        "print(\"X array \", x)\n",
        "\n",
        "# Zero like : https://numpy.org/doc/stable/reference/generated/numpy.zeros_like.html#numpy.zeros_like\n",
        "zeros = np.zeros_like(x, dtype=np.float16, order=\"F\", subok=True, shape=(2,5))\n",
        "print(\"Zeros : \", zeros, \"\\n\")\n",
        "# One Like : https://numpy.org/doc/stable/reference/generated/numpy.ones_like.html#numpy.ones_like\n",
        "ones =np.ones_like(x, dtype=np.long, order=\"F\", subok=True, shape=(5,2))\n",
        "print(\"Ones : \", ones)"
      ],
      "metadata": {
        "colab": {
          "base_uri": "https://localhost:8080/"
        },
        "id": "0tmUAXH_C7Xf",
        "outputId": "456d8356-acd3-4b9d-f7ad-4e417b836f23"
      },
      "execution_count": 9,
      "outputs": [
        {
          "output_type": "stream",
          "name": "stdout",
          "text": [
            "X array  [0 1 2 3 4 5 6 7 8 9]\n",
            "Zeros :  [[0. 0. 0. 0. 0.]\n",
            " [0. 0. 0. 0. 0.]] \n",
            "\n",
            "Ones :  [[1 1]\n",
            " [1 1]\n",
            " [1 1]\n",
            " [1 1]\n",
            " [1 1]]\n"
          ]
        }
      ]
    },
    {
      "cell_type": "code",
      "source": [
        "# Full Like : https://numpy.org/doc/stable/reference/generated/numpy.full_like.html#numpy.full_like\n",
        "# numpy.full_like(a, fill_value, dtype=None, order='K', subok=True, shape=None, *, device=None)\n",
        "\n",
        "x_full_like = np.full_like(x, np.nan, dtype=np.bool, order=\"F\", subok=True, shape=(2,5))\n",
        "print(\"X Full Like : \", x_full_like, \"\\n\")\n",
        "\n",
        "y = np.arange(6, dtype=np.double)\n",
        "y_full_like = np.full_like(y, 0.1)\n",
        "print(\"Y Full Like : \", y_full_like)\n",
        "print(type(y_full_like[0]), \"\\n\")\n",
        "\n",
        "z = np.zeros([2, 2, 3], dtype=int)\n",
        "np.full_like(z, [4, 5, 255])\n",
        "\n"
      ],
      "metadata": {
        "colab": {
          "base_uri": "https://localhost:8080/"
        },
        "id": "GXxQjTy8Ewnx",
        "outputId": "8a38ae03-00c4-4103-fadd-18974bcad3e1"
      },
      "execution_count": 10,
      "outputs": [
        {
          "output_type": "stream",
          "name": "stdout",
          "text": [
            "X Full Like :  [[ True  True  True  True  True]\n",
            " [ True  True  True  True  True]] \n",
            "\n",
            "Y Full Like :  [0.1 0.1 0.1 0.1 0.1 0.1]\n",
            "<class 'numpy.float64'> \n",
            "\n"
          ]
        },
        {
          "output_type": "execute_result",
          "data": {
            "text/plain": [
              "array([[[  4,   5, 255],\n",
              "        [  4,   5, 255]],\n",
              "\n",
              "       [[  4,   5, 255],\n",
              "        [  4,   5, 255]]])"
            ]
          },
          "metadata": {},
          "execution_count": 10
        }
      ]
    },
    {
      "cell_type": "code",
      "source": [
        "# numpy.identity : https://numpy.org/doc/stable/reference/generated/numpy.identity.html\n",
        "# Return the identity array.\n",
        "\n",
        "# numpy.identity(n, dtype=None, *, like=None)\n",
        "np.identity(5, dtype=np.float128, like=None)\n",
        "\n"
      ],
      "metadata": {
        "colab": {
          "base_uri": "https://localhost:8080/"
        },
        "id": "BIQ1xamKHzg1",
        "outputId": "b108b4c2-5fb3-4a47-c033-29093a582a59"
      },
      "execution_count": 11,
      "outputs": [
        {
          "output_type": "execute_result",
          "data": {
            "text/plain": [
              "array([[1., 0., 0., 0., 0.],\n",
              "       [0., 1., 0., 0., 0.],\n",
              "       [0., 0., 1., 0., 0.],\n",
              "       [0., 0., 0., 1., 0.],\n",
              "       [0., 0., 0., 0., 1.]], dtype=float128)"
            ]
          },
          "metadata": {},
          "execution_count": 11
        }
      ]
    },
    {
      "cell_type": "code",
      "source": [
        "# numpy.eye : https://numpy.org/doc/stable/reference/generated/numpy.eye.html#numpy.eye\n",
        "# Return a 2-D array with ones on the diagonal and zeros elsewhere.\n",
        "\n",
        "# numpy.eye(N, M=None, k=0, dtype=<class 'float'>, order='C', *, device=None, like=None)\n",
        "# N = rows, M = columns\n",
        "\n",
        "eye_array = np.eye(N=4, M=4, k=0, dtype=np.int8, order='C')\n",
        "print(eye_array)\n"
      ],
      "metadata": {
        "id": "tWsXOFZk90sJ",
        "outputId": "24450d0a-48f9-4f4d-af0f-88f3fe4c5ffd",
        "colab": {
          "base_uri": "https://localhost:8080/"
        }
      },
      "execution_count": 13,
      "outputs": [
        {
          "output_type": "stream",
          "name": "stdout",
          "text": [
            "[[1 0 0 0]\n",
            " [0 1 0 0]\n",
            " [0 0 1 0]\n",
            " [0 0 0 1]]\n"
          ]
        }
      ]
    },
    {
      "cell_type": "code",
      "source": [
        "# https://numpy.org/doc/stable/reference/generated/numpy.array.html\n",
        "# Create an array.\n",
        "# numpy.array(object, dtype=None, *, copy=True, order='K', subok=False, ndmin=0, like=None)\n",
        "\n",
        "a1 = np.array([\n",
        "    [1, 2],\n",
        "    [3, 4]\n",
        "])\n",
        "print(a1)\n",
        "\n",
        "a2 = np.array([1, 2, 3.0])\n",
        "print(a2)\n",
        "\n",
        "# Minimum dimensions 2:\n",
        "\n",
        "dimn_array = np.array([[1, 2, 3,], [4, 5, 6]], ndmin=2)\n",
        "print(dimn_array)\n",
        "\n",
        "\n",
        "# Complex datatype array\n",
        "cmp_arr = np.array([[1, 2, 3], [4, 5, 6]], dtype=complex)\n",
        "print(cmp_arr)\n",
        "\n",
        "# subclass\n",
        "np.array(np.asmatrix('1 2; 3 4'))\n",
        "np.array(np.asmatrix('1 2; 3 4'), subok=True)"
      ],
      "metadata": {
        "id": "ZmBCCnNP-5YT",
        "outputId": "5e929ebd-d794-4bd0-d66a-6a698d000624",
        "colab": {
          "base_uri": "https://localhost:8080/"
        }
      },
      "execution_count": 27,
      "outputs": [
        {
          "output_type": "stream",
          "name": "stdout",
          "text": [
            "[[1 2]\n",
            " [3 4]]\n",
            "[1. 2. 3.]\n",
            "[[1 2 3]\n",
            " [4 5 6]]\n",
            "[[1.+0.j 2.+0.j 3.+0.j]\n",
            " [4.+0.j 5.+0.j 6.+0.j]]\n"
          ]
        },
        {
          "output_type": "execute_result",
          "data": {
            "text/plain": [
              "matrix([[1, 2],\n",
              "        [3, 4]])"
            ]
          },
          "metadata": {},
          "execution_count": 27
        }
      ]
    }
  ]
}