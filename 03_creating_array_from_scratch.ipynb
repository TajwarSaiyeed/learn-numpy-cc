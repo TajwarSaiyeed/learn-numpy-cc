{
 "cells": [
  {
   "metadata": {},
   "cell_type": "markdown",
   "source": "# Creating array from scratch",
   "id": "a913cce150be8b28"
  },
  {
   "metadata": {
    "ExecuteTime": {
     "end_time": "2025-08-07T05:43:25.763084Z",
     "start_time": "2025-08-07T05:43:25.751915Z"
    }
   },
   "cell_type": "code",
   "source": [
    "import numpy as np\n",
    "\n",
    "zeros = np.zeros((3,3))\n",
    "print(\"[Zeros Array] : \\n\", zeros)"
   ],
   "id": "2d32dd3357dd052a",
   "outputs": [
    {
     "name": "stdout",
     "output_type": "stream",
     "text": [
      "[Zeros Array] : \n",
      " [[0. 0. 0.]\n",
      " [0. 0. 0.]\n",
      " [0. 0. 0.]]\n"
     ]
    }
   ],
   "execution_count": 21
  },
  {
   "metadata": {
    "ExecuteTime": {
     "end_time": "2025-08-07T05:43:25.847676Z",
     "start_time": "2025-08-07T05:43:25.838985Z"
    }
   },
   "cell_type": "code",
   "source": [
    "ones = np.ones((3,3))\n",
    "print(\"[Ones Array] : \\n\", ones)"
   ],
   "id": "7553fe015902c32e",
   "outputs": [
    {
     "name": "stdout",
     "output_type": "stream",
     "text": [
      "[Ones Array] : \n",
      " [[1. 1. 1.]\n",
      " [1. 1. 1.]\n",
      " [1. 1. 1.]]\n"
     ]
    }
   ],
   "execution_count": 22
  },
  {
   "metadata": {
    "ExecuteTime": {
     "end_time": "2025-08-07T05:43:25.943219Z",
     "start_time": "2025-08-07T05:43:25.936336Z"
    }
   },
   "cell_type": "code",
   "source": [
    "full = np.full((3,3),True)\n",
    "print(\"[FULL Array] : \\n\", full)"
   ],
   "id": "20f0201ad4795efd",
   "outputs": [
    {
     "name": "stdout",
     "output_type": "stream",
     "text": [
      "[FULL Array] : \n",
      " [[ True  True  True]\n",
      " [ True  True  True]\n",
      " [ True  True  True]]\n"
     ]
    }
   ],
   "execution_count": 23
  },
  {
   "metadata": {
    "ExecuteTime": {
     "end_time": "2025-08-07T05:43:26.034807Z",
     "start_time": "2025-08-07T05:43:26.028176Z"
    }
   },
   "cell_type": "code",
   "source": [
    "random = np.random.random((3,3))\n",
    "print(\"[Random Array] : \\n\", random)"
   ],
   "id": "91ef21f30d8d35cc",
   "outputs": [
    {
     "name": "stdout",
     "output_type": "stream",
     "text": [
      "[Random Array] : \n",
      " [[0.6592695  0.15048245 0.12122896]\n",
      " [0.31145178 0.84050766 0.58457092]\n",
      " [0.23630467 0.22885231 0.65341568]]\n"
     ]
    }
   ],
   "execution_count": 24
  },
  {
   "metadata": {
    "ExecuteTime": {
     "end_time": "2025-08-07T05:43:26.138868Z",
     "start_time": "2025-08-07T05:43:26.131680Z"
    }
   },
   "cell_type": "code",
   "source": [
    "sequence = np.arange(0, 11, 2)\n",
    "print(\"[Sequence Array] : \", sequence) # no inclusive"
   ],
   "id": "bb1004ac69eabf18",
   "outputs": [
    {
     "name": "stdout",
     "output_type": "stream",
     "text": [
      "[Sequence Array] :  [ 0  2  4  6  8 10]\n"
     ]
    }
   ],
   "execution_count": 25
  }
 ],
 "metadata": {
  "kernelspec": {
   "display_name": "Python 3",
   "language": "python",
   "name": "python3"
  },
  "language_info": {
   "codemirror_mode": {
    "name": "ipython",
    "version": 2
   },
   "file_extension": ".py",
   "mimetype": "text/x-python",
   "name": "python",
   "nbconvert_exporter": "python",
   "pygments_lexer": "ipython2",
   "version": "2.7.6"
  }
 },
 "nbformat": 4,
 "nbformat_minor": 5
}
