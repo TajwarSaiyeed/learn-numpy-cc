{
 "cells": [
  {
   "metadata": {},
   "cell_type": "markdown",
   "source": "# Vector, Matrics and Tensor",
   "id": "8d728e97b828e5d1"
  },
  {
   "metadata": {
    "ExecuteTime": {
     "end_time": "2025-08-07T05:52:55.535176Z",
     "start_time": "2025-08-07T05:52:55.524911Z"
    }
   },
   "cell_type": "code",
   "source": [
    "from traceback import print_tb\n",
    "\n",
    "import numpy as np\n",
    "\n",
    "vector = np.array([1, 2, 3])\n",
    "print(\"[VECTOR] : \", vector)"
   ],
   "id": "ccc33cb76ba96870",
   "outputs": [
    {
     "name": "stdout",
     "output_type": "stream",
     "text": [
      "[VECTOR] :  [1 2 3]\n"
     ]
    }
   ],
   "execution_count": 8
  },
  {
   "metadata": {
    "ExecuteTime": {
     "end_time": "2025-08-07T05:52:55.602842Z",
     "start_time": "2025-08-07T05:52:55.595432Z"
    }
   },
   "cell_type": "code",
   "source": [
    "matrics = np.array([[1, 2, 3], [4, 5, 6], [7, 8, 9]])\n",
    "print(\"[MATRICS] : \\n\", matrics)"
   ],
   "id": "7721a7ab26dcff58",
   "outputs": [
    {
     "name": "stdout",
     "output_type": "stream",
     "text": [
      "[MATRICS] : \n",
      " [[1 2 3]\n",
      " [4 5 6]\n",
      " [7 8 9]]\n"
     ]
    }
   ],
   "execution_count": 9
  },
  {
   "metadata": {
    "ExecuteTime": {
     "end_time": "2025-08-07T05:52:55.702786Z",
     "start_time": "2025-08-07T05:52:55.690046Z"
    }
   },
   "cell_type": "code",
   "source": [
    "tensor = np.array([\n",
    "    [\n",
    "        [1, 2, 3],\n",
    "        [4, 5, 6],\n",
    "        [7, 8, 9]\n",
    "    ],\n",
    "    [\n",
    "        [1, 2, 3],\n",
    "        [4, 5, 6],\n",
    "        [7, 8, 9]\n",
    "    ]\n",
    "])\n",
    "\n",
    "print(\"[TENSOR] : \", tensor)"
   ],
   "id": "b80a43b5af732c3",
   "outputs": [
    {
     "name": "stdout",
     "output_type": "stream",
     "text": [
      "[TENSOR] :  [[[1 2 3]\n",
      "  [4 5 6]\n",
      "  [7 8 9]]\n",
      "\n",
      " [[1 2 3]\n",
      "  [4 5 6]\n",
      "  [7 8 9]]]\n"
     ]
    }
   ],
   "execution_count": 10
  }
 ],
 "metadata": {
  "kernelspec": {
   "display_name": "Python 3",
   "language": "python",
   "name": "python3"
  },
  "language_info": {
   "codemirror_mode": {
    "name": "ipython",
    "version": 2
   },
   "file_extension": ".py",
   "mimetype": "text/x-python",
   "name": "python",
   "nbconvert_exporter": "python",
   "pygments_lexer": "ipython2",
   "version": "2.7.6"
  }
 },
 "nbformat": 4,
 "nbformat_minor": 5
}
